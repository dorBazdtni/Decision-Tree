{
 "cells": [
  {
   "cell_type": "markdown",
   "metadata": {},
   "source": [
    "ID #1: 308068378"
   ]
  },
  {
   "cell_type": "markdown",
   "metadata": {
    "nbgrader": {
     "grade": false,
     "grade_id": "cell-6bd0516e7cb654f5",
     "locked": true,
     "schema_version": 1,
     "solution": false
    }
   },
   "source": [
    "# Exercise 2: Decision Trees\n",
    "\n",
    "In this assignment you will implement a Decision Tree algorithm as learned in class.\n",
    "\n",
    "## Read the following instructions carefully:\n",
    "\n",
    "1. This jupyter notebook contains all the step by step instructions needed for this exercise.\n",
    "1. Submission includes this notebook only with the exercise number and your ID as the filename. For example: `hw2_123456789_987654321.ipynb` if you submitted in pairs and `hw2_123456789.ipynb` if you submitted the exercise alone.\n",
    "1. Write **efficient vectorized** code whenever possible. Some calculations in this exercise take several minutes when implemented efficiently, and might take much longer otherwise. Unnecessary loops will result in point deduction.\n",
    "1. You are responsible for the correctness of your code and should add as many tests as you see fit. Tests will not be graded nor checked.\n",
    "1. Write your functions in this notebook only. **Do not create Python modules and import them**.\n",
    "1. You are allowed to use functions and methods from the [Python Standard Library](https://docs.python.org/3/library/) and [numpy](https://www.numpy.org/devdocs/reference/) only. **Do not import anything else.**\n",
    "\n",
    "## In this exercise you will perform the following:\n",
    "1. Practice OOP in python.\n",
    "2. Implement two impurity measures: Gini and Entropy.\n",
    "3. Construct a decision tree algorithm.\n",
    "4. Prune the tree to achieve better results.\n",
    "5. Visualize your results."
   ]
  },
  {
   "cell_type": "markdown",
   "metadata": {},
   "source": [
    "# I have read and understood the instructions: *** 308068378 ***"
   ]
  },
  {
   "cell_type": "code",
   "execution_count": 1,
   "metadata": {
    "nbgrader": {
     "grade": false,
     "grade_id": "cell-ed9fe7b1026e33cb",
     "locked": true,
     "schema_version": 1,
     "solution": false
    }
   },
   "outputs": [],
   "source": [
    "import numpy as np\n",
    "import pandas as pd\n",
    "import matplotlib.pyplot as plt\n",
    "\n",
    "# make matplotlib figures appear inline in the notebook\n",
    "%matplotlib inline\n",
    "plt.rcParams['figure.figsize'] = (10.0, 8.0) # set default size of plots\n",
    "plt.rcParams['image.interpolation'] = 'nearest'\n",
    "plt.rcParams['image.cmap'] = 'gray'\n",
    "\n",
    "# Ignore warnings\n",
    "import warnings\n",
    "warnings.filterwarnings('ignore')"
   ]
  },
  {
   "cell_type": "markdown",
   "metadata": {
    "nbgrader": {
     "grade": false,
     "grade_id": "cell-c6ac605270c2b091",
     "locked": true,
     "schema_version": 1,
     "solution": false
    }
   },
   "source": [
    "## Warmup - OOP in python\n",
    "\n",
    "Our desicion tree will be implemented using a dedicated python class. Python classes are very similar to classes in Java.\n",
    "\n",
    "\n",
    "You can use the following [site](https://jeffknupp.com/blog/2014/06/18/improve-your-python-python-classes-and-object-oriented-programming/) to learn about classes in python."
   ]
  },
  {
   "cell_type": "code",
   "execution_count": 2,
   "metadata": {},
   "outputs": [],
   "source": [
    "class Node(object):\n",
    "    def __init__(self, data):\n",
    "        self.data = data\n",
    "        self.children = []\n",
    "\n",
    "    def add_child(self, node):\n",
    "        self.children.append(node)"
   ]
  },
  {
   "cell_type": "code",
   "execution_count": 3,
   "metadata": {},
   "outputs": [],
   "source": [
    "n = Node(5)\n",
    "p = Node(6)\n",
    "q = Node(7)\n",
    "n.add_child(p)\n",
    "n.add_child(q)"
   ]
  },
  {
   "cell_type": "markdown",
   "metadata": {
    "nbgrader": {
     "grade": false,
     "grade_id": "cell-2f1ceb251c649b62",
     "locked": true,
     "schema_version": 1,
     "solution": false
    }
   },
   "source": [
    "## Data preprocessing\n",
    "\n",
    "For the following exercise, we will use a dataset containing mushroom data `agaricus-lepiota.csv`. \n",
    "\n",
    "This data set includes descriptions of hypothetical samples corresponding to 23 species of gilled mushrooms in the Agaricus and Lepiota Family. Each species is identified as definitely edible, definitely poisonous, or of unknown edibility and not recommended. This latter class was combined with the poisonous\n",
    "one (=there are only two classes **edible** and **poisonous**). \n",
    "    \n",
    "The dataset contains 8124 observations with 22 features:\n",
    "1. cap-shape: bell=b,conical=c,convex=x,flat=f,knobbed=k,sunken=s\n",
    "2. cap-surface: fibrous=f,grooves=g,scaly=y,smooth=s\n",
    "3. cap-color: brown=n,buff=b,cinnamon=c,gray=g,green=r,pink=p,purple=u,red=e,white=w,yellow=y\n",
    "4. bruises: bruises=t,no=f\n",
    "5. odor: almond=a,anise=l,creosote=c,fishy=y,foul=f, musty=m,none=n,pungent=p,spicy=s\n",
    "6. gill-attachment: attached=a,descending=d,free=f,notched=n\n",
    "7. gill-spacing: close=c,crowded=w,distant=d\n",
    "8. gill-size: broad=b,narrow=n\n",
    "9. gill-color: black=k,brown=n,buff=b,chocolate=h,gray=g,green=r,orange=o,pink=p,purple=u,red=e,white=w,yellow=y\n",
    "10. stalk-shape: enlarging=e,tapering=t\n",
    "11. stalk-root: bulbous=b,club=c,cup=u,equal=e,rhizomorphs=z,rooted=r\n",
    "12. stalk-surface-above-ring: fibrous=f,scaly=y,silky=k,smooth=s\n",
    "13. stalk-surface-below-ring: fibrous=f,scaly=y,silky=k,smooth=s\n",
    "14. stalk-color-above-ring: brown=n,buff=b,cinnamon=c,gray=g,orange=o,pink=p,red=e,white=w,yellow=y\n",
    "15. stalk-color-below-ring: brown=n,buff=b,cinnamon=c,gray=g,orange=o,pink=p,red=e,white=w,yellow=y\n",
    "16. veil-type: partial=p,universal=u\n",
    "17. veil-color: brown=n,orange=o,white=w,yellow=y\n",
    "18. ring-number: none=n,one=o,two=t\n",
    "19. ring-type: cobwebby=c,evanescent=e,flaring=f,large=l,none=n,pendant=p,sheathing=s,zone=z\n",
    "20. spore-print-color: black=k,brown=n,buff=b,chocolate=h,green=r,orange=o,purple=u,white=w,yellow=y\n",
    "21. population: abundant=a,clustered=c,numerous=n,scattered=s,several=v,solitary=y\n",
    "22. habitat: grasses=g,leaves=l,meadows=m,paths=p,urban=u,waste=w,woods=d\n",
    "\n",
    "First, we will read and explore the data using pandas and the `.read_csv` method. Pandas is an open source library providing high-performance, easy-to-use data structures and data analysis tools for the Python programming language."
   ]
  },
  {
   "cell_type": "markdown",
   "metadata": {},
   "source": [
    "### <font color=\"green\"> Descieded to map the target varible to 0 and 1 for 'print tree' "
   ]
  },
  {
   "cell_type": "code",
   "execution_count": 4,
   "metadata": {
    "nbgrader": {
     "grade": false,
     "grade_id": "cell-d79cb4542926ad3f",
     "locked": true,
     "schema_version": 1,
     "solution": false
    }
   },
   "outputs": [],
   "source": [
    "# load dataset\n",
    "data = pd.read_csv('agaricus-lepiota.csv')\n",
    "\n",
    "mapping = {'p': 0, 'e': 1}\n",
    "data['class'] = data['class'].map(mapping)\n",
    "\n"
   ]
  },
  {
   "cell_type": "markdown",
   "metadata": {},
   "source": [
    "One of the advantages of the Decision Tree algorithm is that almost no preprocessing is required. However, finding missing values is always required."
   ]
  },
  {
   "cell_type": "code",
   "execution_count": 5,
   "metadata": {},
   "outputs": [],
   "source": [
    "#############################################################################\n",
    "# TODO: Find columns with missing values and remove them from the data.#\n",
    "\n",
    "#############################################################################\n",
    "col_na= data.columns[data.isna().sum()>0]\n",
    "\n",
    "data = data.drop(columns =col_na)\n",
    "\n",
    "#############################################################################\n",
    "#                             END OF YOUR CODE                              #\n",
    "#############################################################################"
   ]
  },
  {
   "cell_type": "markdown",
   "metadata": {},
   "source": [
    "We will split the dataset to `Training` and `Testing` datasets."
   ]
  },
  {
   "cell_type": "code",
   "execution_count": 6,
   "metadata": {},
   "outputs": [
    {
     "name": "stdout",
     "output_type": "stream",
     "text": [
      "Training dataset shape:  (6093, 22)\n",
      "Testing dataset shape:  (2031, 22)\n"
     ]
    }
   ],
   "source": [
    "from sklearn.model_selection import train_test_split\n",
    "# Making sure the last column will hold the labels\n",
    "X, y = data.drop('class', axis=1), data['class']\n",
    "X = np.column_stack([X,y])\n",
    "# split dataset using random_state to get the same split each time\n",
    "X_train, X_test = train_test_split(X, random_state=99)\n",
    "\n",
    "print(\"Training dataset shape: \", X_train.shape)\n",
    "print(\"Testing dataset shape: \", X_test.shape)"
   ]
  },
  {
   "cell_type": "markdown",
   "metadata": {
    "nbgrader": {
     "grade": false,
     "grade_id": "cell-fd7b0191f3f1e897",
     "locked": true,
     "schema_version": 1,
     "solution": false
    }
   },
   "source": [
    "## Impurity Measures\n",
    "\n",
    "Impurity is a measure of how often a randomly chosen element from the set would be incorrectly labeled if it was randomly labeled according to the distribution of labels in the subset. Implement the functions `calc_gini` and `calc_entropy`. You are encouraged to test your implementation (10 points)."
   ]
  },
  {
   "cell_type": "code",
   "execution_count": 7,
   "metadata": {},
   "outputs": [],
   "source": [
    "def calc_gini(data):\n",
    "    \"\"\"\n",
    "    Calculate gini impurity measure of a dataset.\n",
    " \n",
    "    Input:\n",
    "    - data: any dataset where the last column holds the labels.\n",
    " \n",
    "    Returns the gini impurity.    \n",
    "    \"\"\"\n",
    "    gini = 0.0\n",
    "    ###########################################################################\n",
    "    # TODO: Implement the function.                                           #\n",
    "    ###########################################################################\n",
    "    values,counts = np.unique(data[:,-1], return_counts=True)\n",
    "    len_data = len(data)\n",
    "    \n",
    "    for i in range(len(values.tolist())):\n",
    "        calc = -(counts[i]/len_data)**2\n",
    "        gini = gini + calc\n",
    "    \n",
    "    \n",
    "    gini = 1 + gini\n",
    "    \n",
    "    ###########################################################################\n",
    "    #                             END OF YOUR CODE                            #\n",
    "    ###########################################################################\n",
    "    return gini"
   ]
  },
  {
   "cell_type": "code",
   "execution_count": 8,
   "metadata": {},
   "outputs": [],
   "source": [
    "def calc_entropy(data):\n",
    "    \"\"\"\n",
    "    Calculate the entropy of a dataset.\n",
    "\n",
    "    Input:\n",
    "    - data: any dataset where the last column holds the labels.\n",
    "\n",
    "    Returns the entropy of the dataset.    \n",
    "    \"\"\"\n",
    "    entropy = 0.0\n",
    "    ###########################################################################\n",
    "    # TODO: Implement the function.                                           #\n",
    "    ###########################################################################\n",
    "    values,counts = np.unique(data[:,-1],return_counts=True)\n",
    "    \n",
    "   \n",
    "    for i in range(len(values.tolist())):\n",
    "        prob = counts[i]/len(data)\n",
    "        entropy -= prob*np.log2(prob)\n",
    "        \n",
    "    ###########################################################################\n",
    "    #                             END OF YOUR CODE                            #\n",
    "    ###########################################################################\n",
    "    return entropy"
   ]
  },
  {
   "cell_type": "code",
   "execution_count": 9,
   "metadata": {
    "scrolled": true
   },
   "outputs": [
    {
     "data": {
      "text/plain": [
       "(0.4995636322379775, 0.9993703627906085)"
      ]
     },
     "execution_count": 9,
     "metadata": {},
     "output_type": "execute_result"
    }
   ],
   "source": [
    "##### Your Tests Here #####\n",
    "calc_gini(X), calc_entropy(X)"
   ]
  },
  {
   "cell_type": "markdown",
   "metadata": {},
   "source": [
    "## Goodness of Split\n",
    "\n",
    "Given a feature the Goodnees of Split measures the reduction in the impurity if we split the data according to the feature.\n",
    "$$\n",
    "\\Delta\\varphi(S, A) = \\varphi(S) - \\sum_{v\\in Values(A)} \\frac{|S_v|}{|S|}\\varphi(S_v)\n",
    "$$\n",
    "\n",
    "NOTE: you can add more parameters to the function and you can also add more returning variables (The given parameters and the given returning variable should not be touch). (10 Points)"
   ]
  },
  {
   "cell_type": "code",
   "execution_count": 10,
   "metadata": {},
   "outputs": [],
   "source": [
    "def goodness_of_split(data, feature, impurity_func):\n",
    "    \"\"\"\n",
    "    Calculate the goodness of split of a dataset given a feature and impurity function.\n",
    "\n",
    "    Input:\n",
    "    - data: any dataset where the last column holds the labels.\n",
    "    - feature: the feature index.\n",
    "    - impurity func: a function that calculates the impurity.\n",
    "\n",
    "    Returns the goodness of split.  \n",
    "    \"\"\"\n",
    "    ###########################################################################\n",
    "    # TODO: Implement the function.                                           #\n",
    "    ###########################################################################\n",
    "    impur_mother = impurity_func(data)\n",
    "    column = data[:,feature] \n",
    "    values,counts = np.unique(column, return_counts=True)\n",
    "    impur_node = 0\n",
    "    for value in values:\n",
    "        split = data[column == value]\n",
    "        impur_node = impur_node + (len(split)/len(data))*impurity_func(split)\n",
    "    \n",
    "    goodness = impur_mother - impur_node    \n",
    "    ###########################################################################\n",
    "    #                             END OF YOUR CODE                            #\n",
    "    ###########################################################################\n",
    "    return goodness    "
   ]
  },
  {
   "cell_type": "markdown",
   "metadata": {},
   "source": [
    "## Building a Decision Tree\n",
    "\n",
    "Use a Python class to construct the decision tree. Your class should support the following functionality:\n",
    "\n",
    "1. Initiating a node for a decision tree. You will need to use several class methods and class attributes and you are free to use them as you see fit. We recommend that every node will hold the feature and value used for the split and its children.\n",
    "2. Your code should support both Gini and Entropy as impurity measures. \n",
    "3. The provided data includes categorical data. In this exercise, when splitting a node create the number of children needed according to the attribute unique values.\n",
    "\n",
    "Complete the class `DecisionNode`. The structure of this class is entirely up to you. \n",
    "\n",
    "Complete the function `build_tree`. This function should get the training dataset and the impurity as inputs, initiate a root for the decision tree and construct the tree according to the procedure you learned in class. (30 points)"
   ]
  },
  {
   "cell_type": "code",
   "execution_count": 11,
   "metadata": {},
   "outputs": [],
   "source": [
    "class DecisionNode:\n",
    "    \"\"\"\n",
    "    This class will hold everything you require to construct a decision tree.\n",
    "    The structure of this class is up to you. However, you need to support basic \n",
    "    functionality as described above. It is highly recommended that you \n",
    "    first read and understand the entire exercise before diving into this class.\n",
    "    \"\"\"\n",
    "    def __init__(self, feature=None, value= None,pred = None, name = None):\n",
    "        self.feature = feature # column index of criteria being tested\n",
    "        #the value of the feature we split\n",
    "        self.value = value\n",
    "        #the prediction of a node\n",
    "        self.pred = pred\n",
    "        #the name of the node for 'print tree'\n",
    "        self.name =name\n",
    "        self.children =[]\n",
    "        #the catagory of the node for 'print tree'\n",
    "        self.category = []\n",
    "    def add_child(self, node):\n",
    "        self.children.append(node)\n",
    "    \n",
    "    def add_catagory(self,category):\n",
    "        \n",
    "        self.category.append(category)\n",
    "    "
   ]
  },
  {
   "cell_type": "markdown",
   "metadata": {},
   "source": [
    "## <font color = \"green\"> Bonuse: calculate inforamtion gain"
   ]
  },
  {
   "cell_type": "code",
   "execution_count": 12,
   "metadata": {},
   "outputs": [],
   "source": [
    "def information_gain(data, feature, impurity = calc_entropy):\n",
    "\n",
    "    total_samples = len(data)\n",
    "    categories = np.unique(data[:, feature])\n",
    "    gain = goodness_of_split(data, feature, impurity)\n",
    "\n",
    "    entropy = 0\n",
    "    for category in categories:\n",
    "        split = data[data[:, feature] == category]\n",
    "        split_samples = len(split)\n",
    "        entropy -= (split_samples / total_samples) * np.log2(split_samples / total_samples)\n",
    "\n",
    "    if entropy == 0:\n",
    "        gain_ratio = 0\n",
    "    else:\n",
    "        gain_ratio = gain / entropy\n",
    "    \n",
    "    return gain_ratio"
   ]
  },
  {
   "cell_type": "markdown",
   "metadata": {},
   "source": [
    "## building the tree"
   ]
  },
  {
   "cell_type": "code",
   "execution_count": 13,
   "metadata": {},
   "outputs": [],
   "source": [
    "def build_tree(data, impurity, min_samples_split=1, max_depth=1000, gain_ratio=False):\n",
    "    root = None\n",
    "\n",
    "    def create_new_node(node, data, depth,min_samples_split=min_samples_split):\n",
    "        if depth >= max_depth or len(data) <= min_samples_split:\n",
    "            node.add_catagory(\"leaf\")\n",
    "            num0 = np.count_nonzero(data[:,-1] == 0)\n",
    "            num1 = np.count_nonzero(data[:,-1] == 1)\n",
    "            node.add_catagory(\"{ 0: \"+str(num0)+\", 1: \"+str(num1)+\"}\")\n",
    "            node.name = \"leaf\"  \n",
    "            return\n",
    "\n",
    "        best_feature = None\n",
    "        best_goodness = 0\n",
    "\n",
    "        for feature in range(len(data[0]) - 1):\n",
    "            if gain_ratio == True:\n",
    "                goodness = information_gain(data,feature,impurity)\n",
    "                if goodness > best_goodness:\n",
    "                    best_goodness = goodness\n",
    "                    best_feature = feature\n",
    "            else:\n",
    "                goodness = goodness_of_split(data, feature, impurity)\n",
    "                if goodness > best_goodness:\n",
    "                    best_goodness = goodness\n",
    "                    best_feature = feature\n",
    "\n",
    "        if best_feature == None:\n",
    "            node.add_catagory(\"leaf\")\n",
    "            num0 = np.count_nonzero(data[:,-1] == 0)\n",
    "            num1 = np.count_nonzero(data[:,-1] == 1)\n",
    "            node.add_catagory(\"{ 0: \"+str(num0)+\", 1: \"+str(num1)+\"}\")\n",
    "            node.name = \"leaf\"   \n",
    "            return\n",
    "\n",
    "        node.feature = best_feature\n",
    "        node.add_catagory(\"feature=X\" + str(best_feature))\n",
    "        \n",
    "        feature_values = np.unique(data[:, best_feature])\n",
    "\n",
    "        for value in feature_values:\n",
    "            split_data = data[data[:, best_feature] == value]\n",
    "            desicion_class = max(list(split_data[:,-1]), key= list(split_data[:,-1]).count)\n",
    "            child_node = DecisionNode(best_feature,value,desicion_class,name ='node')\n",
    "            child_node.pred = desicion_class\n",
    "            child_node.add_catagory(\"X\" +str(best_feature) + \"=\" + value)\n",
    "            node.add_child(child_node)\n",
    "            create_new_node(child_node, split_data, depth + 1)\n",
    "\n",
    "    root = DecisionNode(name =\"root\")\n",
    "    root.add_catagory(\"ROOT\")\n",
    "    class_value = np.unique(data[:,-1])\n",
    "    create_new_node(root, data, 0)\n",
    "    \n",
    "\n",
    "    return root\n"
   ]
  },
  {
   "cell_type": "code",
   "execution_count": 14,
   "metadata": {},
   "outputs": [],
   "source": [
    "# python supports passing a function as an argument to another function.\n",
    "tree_gini = build_tree(data=X_train, impurity=calc_gini) # gini and goodness of split\n",
    "tree_entropy = build_tree(data=X_train, impurity=calc_entropy) # entropy and goodness of split\n",
    "tree_entropy_gain_ratio = build_tree(data=X_train, impurity=calc_entropy, gain_ratio=True) # entropy and gain ratio\n"
   ]
  },
  {
   "cell_type": "markdown",
   "metadata": {},
   "source": [
    "## Tree evaluation\n",
    "\n",
    "Complete the functions `predict` and `calc_accuracy`. (10 points)"
   ]
  },
  {
   "cell_type": "code",
   "execution_count": 15,
   "metadata": {},
   "outputs": [],
   "source": [
    "def predict(node, instance):\n",
    "    \"\"\"\n",
    "    Predict a given instance using the decision tree\n",
    " \n",
    "    Input:\n",
    "    - root: the root of the decision tree.\n",
    "    - instance: an row vector from the dataset. Note that the last element \n",
    "                of this vector is the label of the instance.\n",
    " \n",
    "    Output: the prediction of the instance.\n",
    "    \"\"\"\n",
    "    pred = None\n",
    "    ###########################################################################\n",
    "    # TODO: Implement the function.                                           #\n",
    "    ###########################################################################\n",
    "    if len(node.children) == 0:\n",
    "        return  node.pred\n",
    "    for child in node.children:\n",
    "        feature = node.feature\n",
    "        if child.value == instance[feature]:\n",
    "            return predict(child, instance)\n",
    "    ###########################################################################\n",
    "    #                             END OF YOUR CODE                            #\n",
    "    ###########################################################################\n",
    "    "
   ]
  },
  {
   "cell_type": "code",
   "execution_count": 16,
   "metadata": {},
   "outputs": [],
   "source": [
    "def calc_accuracy(node, dataset):\n",
    "    \"\"\"\n",
    "    Predict a given dataset using the decision tree\n",
    " \n",
    "    Input:\n",
    "    - node: a node in the decision tree.\n",
    "    - dataset: the dataset on which the accuracy is evaluated\n",
    " \n",
    "    Output: the accuracy of the decision tree on the given dataset (%).\n",
    "    \"\"\"\n",
    "    accuracy = 0\n",
    "    ###########################################################################\n",
    "    # TODO: Implement the function.                                           #\n",
    "    ###########################################################################\n",
    "    count_true = 0\n",
    "    \n",
    "    for instance in dataset:\n",
    "        if predict(node,instance) == instance[-1]:\n",
    "            count_true += 1\n",
    "    accuracy =count_true/len(dataset)*100\n",
    "    ###########################################################################\n",
    "    #                             END OF YOUR CODE                            #\n",
    "    ###########################################################################\n",
    "    return accuracy"
   ]
  },
  {
   "cell_type": "markdown",
   "metadata": {},
   "source": [
    "After building the three trees using the training set, you should calculate the accuracy on the test set. For each tree print the training and test accuracy. Select the tree that gave you the best test accuracy. For the rest of the exercise, use that tree (when you asked to build another tree use the same impurity function and same gain_ratio flag). "
   ]
  },
  {
   "cell_type": "code",
   "execution_count": 28,
   "metadata": {},
   "outputs": [
    {
     "name": "stdout",
     "output_type": "stream",
     "text": [
      "Gini tree - training set:  99.24503528639423  ,test set: 76.80945347119645\n",
      "entropy tree - training set:  99.40915805022156  ,test set: 76.21861152141803\n",
      "gain_ratio tree - training set:  99.63892991957984  ,test set: 76.41555883801084\n",
      "the best is Gini tree\n"
     ]
    }
   ],
   "source": [
    "gini_train,gini_test = calc_accuracy(tree_gini,X_train) , calc_accuracy(tree_gini,X_test)\n",
    "print(\"Gini tree - training set: \",gini_train, \" ,test set:\", gini_test)\n",
    "\n",
    "entropy_train,entropy_test = calc_accuracy(tree_entropy,X_train) , calc_accuracy(tree_entropy,X_test)\n",
    "print(\"entropy tree - training set: \",entropy_train, \" ,test set:\",entropy_test)\n",
    "\n",
    "gain_ratio_train,gain_ratio_test = calc_accuracy(tree_entropy_gain_ratio,X_train) , calc_accuracy(tree_entropy_gain_ratio,X_test)\n",
    "print(\"gain_ratio tree - training set: \",gain_ratio_train, \" ,test set:\", gain_ratio_test)\n",
    "\n",
    "print(\"the best is Gini tree\")"
   ]
  },
  {
   "cell_type": "markdown",
   "metadata": {},
   "source": [
    "## Depth pruning\n",
    "\n",
    "(15 points)\n",
    "\n",
    "Consider the following max_depth values: [1, 2, 3, 4, 5, 6, 7, 8]. For each value, construct a tree and prune it according to the max_depth value = don't let the tree to grow beyond this depth. Next, calculate the training and testing accuracy.<br>\n",
    "On a single plot, draw the training and testing accuracy as a function of the max_depth. Mark the best result on the graph with red circle."
   ]
  },
  {
   "cell_type": "markdown",
   "metadata": {},
   "source": [
    "### I am chosing to use the gain ratio as the one to get the higher Accurcy to show in this step"
   ]
  },
  {
   "cell_type": "code",
   "execution_count": 29,
   "metadata": {},
   "outputs": [],
   "source": [
    "x = np.array([1, 2, 3, 4, 5, 6, 7, 8])\n",
    "depth_train = []\n",
    "depth_test = []\n",
    "for depth in x:\n",
    "    tree = build_tree(X_train, calc_gini, max_depth=depth)\n",
    "    train_accuracy = calc_accuracy(tree,X_train)\n",
    "    test_accuracy = calc_accuracy(tree,X_test)\n",
    "    depth_train.append(train_accuracy)\n",
    "    depth_test.append(test_accuracy)\n"
   ]
  },
  {
   "cell_type": "code",
   "execution_count": 30,
   "metadata": {},
   "outputs": [
    {
     "data": {
      "image/png": "[encoded data removed]",
      "text/plain": [
       "<Figure size 1000x800 with 1 Axes>"
      ]
     },
     "metadata": {},
     "output_type": "display_data"
    }
   ],
   "source": [
    "y1_max = max(depth_test)\n",
    "x1_max =x[depth_test.index(y1_max)] \n",
    "plt.plot(x,np.array(depth_test),label = 'Test set')\n",
    "plt.plot(x,np.array(depth_train),label = 'Training set')\n",
    "plt.title('Training and Testing Accuracy as a function of the max_depth')\n",
    "plt.gca().set_aspect('auto')\n",
    "plt.xlabel(\"Depth values\")\n",
    "plt.ylabel(\"Accuracy\")\n",
    "plt.scatter(x1_max,y1_max, color = 'red',s =250)\n",
    "plt.legend()\n",
    "plt.show()"
   ]
  },
  {
   "cell_type": "markdown",
   "metadata": {},
   "source": [
    "## Min Samples Split\n",
    "\n",
    "(15 points)\n",
    "\n",
    "Consider the following min_samples_split values: [1, 5, 10, 20, 50]. For each value, construct a tree and prune it according to the min_samples_split value = don't split a node if the number of sample in it is less or equal to the min_samples_split value. Next, calculate the training and testing accuracy.<br>\n",
    "On a single plot, draw the training and testing accuracy as a function of the min_samples_split. Mark the best result on the graph with red circle. (make sure that the x-axis ticks represent the values of min_samples_split)"
   ]
  },
  {
   "cell_type": "code",
   "execution_count": 31,
   "metadata": {},
   "outputs": [],
   "source": [
    "sample_train = []\n",
    "sample_test = []\n",
    "samples = [1, 5, 10, 20, 50]\n",
    "for sample in samples:\n",
    "    tree = build_tree(X_train, calc_gini, min_samples_split=sample)\n",
    "    train_accuracy = calc_accuracy(tree,X_train)\n",
    "    test_accuracy = calc_accuracy(tree,X_test)\n",
    "    sample_train.append(train_accuracy)\n",
    "    sample_test.append(test_accuracy)"
   ]
  },
  {
   "cell_type": "code",
   "execution_count": 33,
   "metadata": {},
   "outputs": [
    {
     "data": {
      "image/png": "[encoded data removed]",
      "text/plain": [
       "<Figure size 1000x800 with 1 Axes>"
      ]
     },
     "metadata": {},
     "output_type": "display_data"
    }
   ],
   "source": [
    "y2_max = max(sample_test)\n",
    "x2_max = samples[sample_test.index(y2_max) ]\n",
    "plt.plot(samples,sample_test,label = 'Test set')\n",
    "plt.plot(samples,sample_train, label = 'Training set')\n",
    "plt.title('Training and Testing Accuracy as a function of the min_samples_split')\n",
    "plt.xlabel('minimum values to split')\n",
    "plt.ylabel('Accuracy')\n",
    "plt.legend()\n",
    "plt.scatter(x2_max,y2_max, color = 'red',s =250)\n",
    "plt.show()"
   ]
  },
  {
   "cell_type": "markdown",
   "metadata": {},
   "source": [
    "Build the best 2 trees:\n",
    "1. tree_max_depth - the best tree according to max_depth pruning\n",
    "1. tree_min_samples_split - the best tree according to min_samples_split pruning"
   ]
  },
  {
   "cell_type": "code",
   "execution_count": 41,
   "metadata": {},
   "outputs": [],
   "source": [
    "tree_max_depth = build_tree(X_train, impurity=calc_gini, max_depth= x1_max)\n",
    "tree_min_samples_split = build_tree(X_train, impurity=calc_gini, min_samples_split= x2_max)"
   ]
  },
  {
   "cell_type": "markdown",
   "metadata": {},
   "source": [
    "## Number of Nodes\n",
    "\n",
    "(5 points)\n",
    "\n",
    "Complete the function counts_nodes and print the number of nodes in each tree and print the number of nodes of the two trees above"
   ]
  },
  {
   "cell_type": "code",
   "execution_count": 39,
   "metadata": {},
   "outputs": [],
   "source": [
    "def count_nodes(node):\n",
    "    \"\"\"\n",
    "    Count the number of node in a given tree\n",
    " \n",
    "    Input:\n",
    "    - node: a node in the decision tree.\n",
    " \n",
    "    Output: the number of node in the tree.\n",
    "    \"\"\"\n",
    "    ###########################################################################\n",
    "    # TODO: Implement the function.                                           #\n",
    "    ###########################################################################\n",
    "    \n",
    "    count = 1\n",
    "    for child in node.children:\n",
    "        count += count_nodes(child)\n",
    "        \n",
    "    return count\n",
    "    ###########################################################################\n",
    "    #                             END OF YOUR CODE                            #\n",
    "    ###########################################################################\n",
    "    "
   ]
  },
  {
   "cell_type": "code",
   "execution_count": 42,
   "metadata": {},
   "outputs": [
    {
     "name": "stdout",
     "output_type": "stream",
     "text": [
      "The node count for tree gini : 3231\n",
      "The node count for tree entropy : 3227\n",
      "The node count for tree gain ratio : 3251\n",
      "The node count for tree max depth : 137 ,Accuracy:  89.46331856228458\n",
      "The node count for tree minimum samples split : 321 ,Accuracy:  89.51255539143278\n"
     ]
    }
   ],
   "source": [
    "print(\"The node count for tree gini :\",count_nodes(tree_gini))\n",
    "print(\"The node count for tree entropy :\",count_nodes(tree_entropy))\n",
    "print(\"The node count for tree gain ratio :\",count_nodes(tree_entropy_gain_ratio))\n",
    "print(\"The node count for tree max depth :\",count_nodes(tree_max_depth), \",Accuracy: \", calc_accuracy(tree_max_depth,X_test))\n",
    "print(\"The node count for tree minimum samples split :\",count_nodes(tree_min_samples_split),\",Accuracy: \", calc_accuracy(tree_min_samples_split,X_test))"
   ]
  },
  {
   "cell_type": "markdown",
   "metadata": {},
   "source": [
    "## Print the tree\n",
    "\n",
    "Complete the function `print_tree`. Your tree should be visualized clearly. You can use the following example as a reference:\n",
    "```\n",
    "[ROOT, feature=X0],\n",
    "  [X0=a, feature=X2]\n",
    "    [X2=c, leaf]: [{1.0: 10}]\n",
    "    [X2=d, leaf]: [{0.0: 10}]\n",
    "  [X0=y, feature=X5], \n",
    "    [X5=a, leaf]: [{1.0: 5}]\n",
    "    [X5=s, leaf]: [{0.0: 10}]\n",
    "  [X0=e, leaf]: [{0.0: 25, 1.0: 50}]\n",
    "```\n",
    "In each brackets:\n",
    "* The first argument is the parent feature with the value that led to current node\n",
    "* The second argument is the selected feature of the current node\n",
    "* If the current node is a leaf, you need to print also the labels and their counts\n",
    "\n",
    "(5 points)"
   ]
  },
  {
   "cell_type": "code",
   "execution_count": 25,
   "metadata": {},
   "outputs": [],
   "source": [
    "# you can change the function signeture\n",
    "def print_tree(node,max_print, depth=0,counter = 0):\n",
    "    '''\n",
    "    prints the tree according to the example above\n",
    "\n",
    "    Input:\n",
    "    - node: a node in the decision tree\n",
    "\n",
    "    This function has no return value\n",
    "    '''\n",
    "    ###########################################################################\n",
    "    # TODO: Implement the function.                                           #\n",
    "    ###########################################################################\n",
    "    if counter >= max_print:\n",
    "        return\n",
    "    counter += 1\n",
    "    if node.name == 'root':\n",
    "        print(str(node.category))  \n",
    "               \n",
    "    elif node.name != \"leaf\":\n",
    "        print('   '*depth + str(node.category))\n",
    "        \n",
    "    else:\n",
    "        print('   '*depth + str(node.category))\n",
    "    \n",
    "    depth += 1\n",
    "    for child in node.children:\n",
    "        print_tree(child,max_print= max_print,depth = depth,counter= counter)\n",
    "        counter += count_nodes(child)\n",
    "    \n",
    "    ###########################################################################\n",
    "    #                             END OF YOUR CODE                            #\n",
    "    ###########################################################################"
   ]
  },
  {
   "cell_type": "markdown",
   "metadata": {},
   "source": [
    "print the tree with the best test accuracy and with less than 50 nodes (from the two pruning methods)"
   ]
  },
  {
   "cell_type": "markdown",
   "metadata": {},
   "source": [
    "### <font color=\"green\"> Printing the tree minimum sample split with minimum of 50 sampels, because it has the best Accuracy(89.512)!"
   ]
  },
  {
   "cell_type": "code",
   "execution_count": 44,
   "metadata": {
    "scrolled": false
   },
   "outputs": [
    {
     "name": "stdout",
     "output_type": "stream",
     "text": [
      "['ROOT', 'feature=X4']\n",
      "   ['X4=a', 'feature=X2']\n",
      "      ['X2=n', 'leaf', '{ 0: 5, 1: 33}']\n",
      "      ['X2=w', 'feature=X8']\n",
      "         ['X8=g', 'leaf', '{ 0: 1, 1: 22}']\n",
      "         ['X8=k', 'leaf', '{ 0: 4, 1: 22}']\n",
      "         ['X8=n', 'leaf', '{ 0: 1, 1: 33}']\n",
      "         ['X8=p', 'leaf', '{ 0: 0, 1: 8}']\n",
      "         ['X8=w', 'leaf', '{ 0: 1, 1: 22}']\n",
      "      ['X2=y', 'feature=X8']\n",
      "         ['X8=g', 'leaf', '{ 0: 2, 1: 24}']\n",
      "         ['X8=k', 'leaf', '{ 0: 1, 1: 22}']\n",
      "         ['X8=n', 'leaf', '{ 0: 8, 1: 33}']\n",
      "         ['X8=p', 'leaf', '{ 0: 2, 1: 19}']\n",
      "         ['X8=w', 'leaf', '{ 0: 6, 1: 35}']\n",
      "   ['X4=c', 'feature=X6']\n",
      "      ['X6=c', 'feature=X19']\n",
      "         ['X19=s', 'leaf', '{ 0: 27, 1: 6}']\n",
      "         ['X19=v', 'leaf', '{ 0: 36, 1: 1}']\n",
      "      ['X6=w', 'feature=X2']\n",
      "         ['X2=g', 'leaf', '{ 0: 25, 1: 0}']\n",
      "         ['X2=p', 'leaf', '{ 0: 24, 1: 2}']\n",
      "         ['X2=w', 'leaf', '{ 0: 25, 1: 1}']\n",
      "   ['X4=f', 'feature=X10']\n",
      "      ['X10=f', 'feature=X2']\n",
      "         ['X2=b', 'leaf', '{ 0: 30, 1: 8}']\n",
      "         ['X2=g', 'leaf', '{ 0: 26, 1: 5}']\n",
      "         ['X2=w', 'leaf', '{ 0: 35, 1: 1}']\n",
      "      ['X10=k', 'feature=X12']\n",
      "         ['X12=b', 'feature=X8']\n",
      "            ['X8=g', 'feature=X19']\n",
      "               ['X19=v', 'feature=X0']\n",
      "                  ['X0=f', 'leaf', '{ 0: 25, 1: 0}']\n",
      "                  ['X0=x', 'leaf', '{ 0: 27, 1: 3}']\n",
      "               ['X19=y', 'feature=X20']\n",
      "                  ['X20=d', 'leaf', '{ 0: 12, 1: 9}']\n",
      "                  ['X20=g', 'leaf', '{ 0: 15, 1: 3}']\n",
      "                  ['X20=p', 'leaf', '{ 0: 16, 1: 1}']\n",
      "            ['X8=h', 'feature=X20']\n",
      "               ['X20=d', 'leaf', '{ 0: 31, 1: 4}']\n",
      "               ['X20=g', 'leaf', '{ 0: 31, 1: 2}']\n",
      "               ['X20=p', 'leaf', '{ 0: 30, 1: 2}']\n",
      "            ['X8=p', 'feature=X20']\n",
      "               ['X20=d', 'leaf', '{ 0: 32, 1: 2}']\n",
      "               ['X20=g', 'leaf', '{ 0: 36, 1: 4}']\n",
      "               ['X20=p', 'leaf', '{ 0: 27, 1: 6}']\n",
      "         ['X12=n', 'feature=X13']\n",
      "            ['X13=b', 'feature=X20']\n",
      "               ['X20=d', 'leaf', '{ 0: 35, 1: 4}']\n",
      "               ['X20=g', 'leaf', '{ 0: 26, 1: 11}']\n"
     ]
    }
   ],
   "source": [
    "#### Your code here ####\n",
    "print_tree(tree_min_samples_split,50)\n"
   ]
  },
  {
   "cell_type": "code",
   "execution_count": null,
   "metadata": {},
   "outputs": [],
   "source": []
  }
 ],
 "metadata": {
  "celltoolbar": "Create Assignment",
  "kernelspec": {
   "display_name": "Python 3 (ipykernel)",
   "language": "python",
   "name": "python3"
  },
  "language_info": {
   "codemirror_mode": {
    "name": "ipython",
    "version": 3
   },
   "file_extension": ".py",
   "mimetype": "text/x-python",
   "name": "python",
   "nbconvert_exporter": "python",
   "pygments_lexer": "ipython3",
   "version": "3.9.13"
  }
 },
 "nbformat": 4,
 "nbformat_minor": 4
}
